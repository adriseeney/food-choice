{
  "nbformat": 4,
  "nbformat_minor": 0,
  "metadata": {
    "colab": {
      "provenance": [],
      "authorship_tag": "ABX9TyPpKutTynKfaVkJnseIW3XL"
    },
    "kernelspec": {
      "name": "python3",
      "display_name": "Python 3"
    },
    "language_info": {
      "name": "python"
    }
  },
  "cells": [
    {
      "cell_type": "markdown",
      "source": [],
      "metadata": {
        "id": "Tfu2NYcNUjYh"
      }
    },
    {
      "cell_type": "markdown",
      "source": [
        "This system will use several influencing factors:\n",
        "\n",
        "Food Prices: Cost of each meal.\n",
        "Household Income: Income of the household to calculate budget constraints.\n",
        "\n",
        "*   Economic Incentives: We can model these as discounts, coupons, or food assistance programs (e.g., SNAP).\n",
        "*   Family Structure: Number of household members, including children or elderly.\n",
        "* Time Constraints: The time available for meal preparation.\n",
        "* Nutrition Information: Nutritional quality of meals (e.g., calories, macronutrients).\n",
        "* Federal Assistance Programs: Consider whether the household qualifies for programs like SNAP or WIC.\n",
        "\n",
        "Below is a simplified Python system for meal recommendations based on these variables:"
      ],
      "metadata": {
        "id": "Zr6qoAtjUm-X"
      }
    },
    {
      "cell_type": "markdown",
      "source": [
        "# Sample Food Choice model based on microeconomic factors including time, budget, income, and family size"
      ],
      "metadata": {
        "id": "_2ljd3dlUYPC"
      }
    },
    {
      "cell_type": "code",
      "execution_count": null,
      "metadata": {
        "colab": {
          "base_uri": "https://localhost:8080/"
        },
        "id": "HHMB-YNITAAA",
        "outputId": "7f487405-88be-4d83-b275-90bccb04c3c2"
      },
      "outputs": [
        {
          "output_type": "stream",
          "name": "stdout",
          "text": [
            "Recommended Meal Plan:\n",
            "- Grilled Chicken Salad (Price: $8.0, Prep Time: 15 min, Calories: 350)\n",
            "- Quinoa Bowl (Price: $5.0, Prep Time: 20 min, Calories: 400)\n",
            "- Turkey Sandwich (Price: $4.5, Prep Time: 10 min, Calories: 500)\n"
          ]
        }
      ],
      "source": [
        "# Import necessary libraries\n",
        "import random\n",
        "\n",
        "# Define a sample database of meals with attributes like price, prep time, and nutrition quality\n",
        "meals_db = [\n",
        "    {'name': 'Grilled Chicken Salad', 'price': 8.00, 'prep_time': 15, 'calories': 350, 'nutritional_quality': 9, 'SNAP_eligible': True},\n",
        "    {'name': 'Vegetable Stir Fry', 'price': 6.00, 'prep_time': 25, 'calories': 250, 'nutritional_quality': 8, 'SNAP_eligible': True},\n",
        "    {'name': 'Quinoa Bowl', 'price': 5.00, 'prep_time': 20, 'calories': 400, 'nutritional_quality': 8, 'SNAP_eligible': True},\n",
        "    {'name': 'Turkey Sandwich', 'price': 4.50, 'prep_time': 10, 'calories': 500, 'nutritional_quality': 7, 'SNAP_eligible': False},\n",
        "    {'name': 'Pizza', 'price': 10.00, 'prep_time': 30, 'calories': 700, 'nutritional_quality': 5, 'SNAP_eligible': False}\n",
        "]\n",
        "\n",
        "# Define economic and demographic factors\n",
        "household_income = 30000  # annual household income in USD\n",
        "household_size = 4  # number of people in the household\n",
        "snap_eligibility = True  # whether the household qualifies for SNAP (Supplemental Nutrition Assistance Program)\n",
        "time_per_meal = 20  # available time for meal preparation in minutes\n",
        "meal_budget = 5  # max price the user is willing to spend per meal\n",
        "family_preferences = {'kids': True, 'elderly': False}  # family structure preferences\n",
        "\n",
        "# Define Federal food assistance factors\n",
        "snap_benefit = 1.0 if snap_eligibility else 0.0  # SNAP benefit reduces the meal price by 100% if eligible\n",
        "\n",
        "# Recommend meals based on price, time, nutrition, and eligibility for SNAP\n",
        "def recommend_meals():\n",
        "    recommendations = []\n",
        "\n",
        "    for meal in meals_db:\n",
        "        # Apply SNAP benefits if applicable\n",
        "        if snap_eligibility and meal['SNAP_eligible']:\n",
        "            effective_price = meal['price'] * (1 - snap_benefit)\n",
        "        else:\n",
        "            effective_price = meal['price']\n",
        "\n",
        "        # Check if the meal fits within the user's budget, time, and household preferences\n",
        "        if effective_price <= meal_budget and meal['prep_time'] <= time_per_meal:\n",
        "            # Incorporate family structure into the recommendation\n",
        "            if family_preferences['kids'] and meal['calories'] > 300:  # Assume meals > 300 calories are better for families with kids\n",
        "                recommendations.append(meal)\n",
        "            elif not family_preferences['kids']:\n",
        "                recommendations.append(meal)\n",
        "\n",
        "    return recommendations\n",
        "\n",
        "# Generate meal plan based on factors like income, family size, and SNAP eligibility\n",
        "def generate_meal_plan():\n",
        "    meal_plan = recommend_meals()\n",
        "\n",
        "    if not meal_plan:\n",
        "        print(\"No suitable meals found based on your criteria.\")\n",
        "    else:\n",
        "        print(\"Recommended Meal Plan:\")\n",
        "        for meal in meal_plan:\n",
        "            print(f\"- {meal['name']} (Price: ${meal['price']}, Prep Time: {meal['prep_time']} min, Calories: {meal['calories']})\")\n",
        "\n",
        "# Example of running the system with the given constraints\n",
        "generate_meal_plan()\n"
      ]
    },
    {
      "cell_type": "markdown",
      "source": [
        "###Explanation of Key Variables and Logic:\n",
        "Household Income & Economic Incentives:\n",
        "\n",
        "* household_income:\n",
        " * This can influence the meal_budget, determining how much the household can spend per meal.\n",
        "\n",
        "* snap_eligibility:\n",
        "\n",
        " * If the user qualifies for SNAP, it lowers the cost of eligible meals.\n",
        "\n",
        "* Food Prices:\n",
        "\n",
        " * Each meal has a price and is filtered based on the user's budget (meal_budget), factoring in SNAP benefits if eligible.\n",
        "\n",
        "* Family Structure:\n",
        "\n",
        "  * For example, if the family has children, the system may prioritize higher-calorie meals (i.e., those suitable for growing kids).\n",
        "\n",
        "* Time Constraints:\n",
        "\n",
        "  * Meals are also filtered based on the available time for preparation (prep_time).\n",
        "\n",
        "* Nutrition Information:\n",
        "\n",
        "  * Meals have nutritional quality scores and calorie counts. You can enhance the system to prioritize healthier meals, especially for families with health restrictions."
      ],
      "metadata": {
        "id": "KDRKZbJ0U8o9"
      }
    },
    {
      "cell_type": "markdown",
      "source": [
        "# Sample Model of food choice decisions with psychological factors"
      ],
      "metadata": {
        "id": "Wr3ZtP3WUDl4"
      }
    },
    {
      "cell_type": "code",
      "source": [
        "# @title Default title text\n",
        "import random\n",
        "\n",
        "# Sample emotion-craving and food-emotion datasets\n",
        "emotion_craving_db = {\n",
        "    'sadness': ['candy', 'cake', 'cookies'],\n",
        "    'stress': ['chips', 'pretzels', 'crackers'],\n",
        "    'anxiety': ['bread', 'pasta', 'pizza'],\n",
        "    'happiness': ['ice cream', 'chocolates'],\n",
        "    'loneliness': ['mac & cheese', 'burgers']\n",
        "}\n",
        "\n",
        "food_emotion_db = {\n",
        "    'dark chocolate': {'dopamine': True, 'serotonin': False, 'mood_impact': 'short-term happiness boost'},\n",
        "    'spinach': {'dopamine': False, 'serotonin': True, 'mood_impact': 'long-term mood stability'},\n",
        "    'walnuts': {'dopamine': True, 'serotonin': True, 'mood_impact': 'energy and calmness boost'},\n",
        "    'processed sugar': {'dopamine': True, 'serotonin': False, 'mood_impact': 'spike and crash in mood'},\n",
        "    'whole grains': {'dopamine': False, 'serotonin': True, 'mood_impact': 'sustained energy, calmness'}\n",
        "}\n",
        "\n",
        "# Function to suggest healthier alternatives based on emotion and cravings\n",
        "def suggest_healthier_alternative(emotion, craving):\n",
        "    # Get the common foods the person might crave based on emotion\n",
        "    if emotion not in emotion_craving_db:\n",
        "        print(\"No data available for this emotion.\")\n",
        "        return\n",
        "\n",
        "    craving_options = emotion_craving_db[emotion]\n",
        "\n",
        "    # Check if the user has a craving for a specific type of food\n",
        "    if craving in craving_options:\n",
        "        print(f\"You're craving {craving} because you're feeling {emotion}.\")\n",
        "\n",
        "        # Find healthier alternatives that boost dopamine or serotonin without processed sugar\n",
        "        healthier_options = [food for food, effects in food_emotion_db.items() if effects['dopamine'] or effects['serotonin']]\n",
        "        random.shuffle(healthier_options)  # Randomize options\n",
        "\n",
        "        print(f\"Instead of {craving}, you could try:\")\n",
        "        for option in healthier_options[:3]:  # Suggest top 3 healthier options\n",
        "            impact = food_emotion_db[option]['mood_impact']\n",
        "            print(f\"- {option} (Impact on mood: {impact})\")\n",
        "    else:\n",
        "        print(f\"No exact craving match found for {craving}, but here are some healthier mood-boosting options:\")\n",
        "        for food, effects in food_emotion_db.items():\n",
        "            impact = effects['mood_impact']\n",
        "            print(f\"- {food} (Impact on mood: {impact})\")\n",
        "\n",
        "# Example usage of the system\n",
        "emotion = 'sadness'\n",
        "craving = 'cake'\n",
        "\n",
        "suggest_healthier_alternative(emotion, craving)\n"
      ],
      "metadata": {
        "colab": {
          "base_uri": "https://localhost:8080/"
        },
        "id": "lGxWwFG4UNYM",
        "outputId": "1454afde-638d-4bb7-d3f9-e2a28b4a5fb2"
      },
      "execution_count": null,
      "outputs": [
        {
          "output_type": "stream",
          "name": "stdout",
          "text": [
            "You're craving cake because you're feeling sadness.\n",
            "Instead of cake, you could try:\n",
            "- walnuts (Impact on mood: energy and calmness boost)\n",
            "- spinach (Impact on mood: long-term mood stability)\n",
            "- processed sugar (Impact on mood: spike and crash in mood)\n"
          ]
        }
      ]
    }
  ]
}